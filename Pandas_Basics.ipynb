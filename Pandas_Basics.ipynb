{
 "cells": [
  {
   "cell_type": "markdown",
   "id": "3b25118b",
   "metadata": {},
   "source": [
    "A Pandas **Series**  is a **one-dimensional array** of indexed data. It can be a list or array.\n",
    "Displays data as a sequence of **indices** and **values** like this:\n",
    "1. value1\n",
    "2. value2\n",
    "3. value3\n",
    "4. ....."
   ]
  },
  {
   "cell_type": "code",
   "execution_count": 1,
   "id": "b424e29e",
   "metadata": {},
   "outputs": [],
   "source": [
    "import pandas as pd"
   ]
  },
  {
   "cell_type": "code",
   "execution_count": 2,
   "id": "2fec5c8b",
   "metadata": {},
   "outputs": [
    {
     "data": {
      "text/plain": [
       "0     0.45\n",
       "1     0.55\n",
       "2    94.00\n",
       "3    22.00\n",
       "dtype: float64"
      ]
     },
     "execution_count": 2,
     "metadata": {},
     "output_type": "execute_result"
    }
   ],
   "source": [
    "data=pd.Series([0.45,0.55,94,22])\n",
    "data"
   ]
  },
  {
   "cell_type": "code",
   "execution_count": null,
   "id": "1cf2ad1d",
   "metadata": {},
   "outputs": [],
   "source": []
  }
 ],
 "metadata": {
  "kernelspec": {
   "display_name": "Python 3 (ipykernel)",
   "language": "python",
   "name": "python3"
  },
  "language_info": {
   "codemirror_mode": {
    "name": "ipython",
    "version": 3
   },
   "file_extension": ".py",
   "mimetype": "text/x-python",
   "name": "python",
   "nbconvert_exporter": "python",
   "pygments_lexer": "ipython3",
   "version": "3.10.9"
  }
 },
 "nbformat": 4,
 "nbformat_minor": 5
}
